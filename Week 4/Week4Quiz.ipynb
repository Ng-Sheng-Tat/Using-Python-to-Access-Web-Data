{
  "nbformat": 4,
  "nbformat_minor": 0,
  "metadata": {
    "colab": {
      "name": "Week4Quiz.ipynb",
      "provenance": [],
      "collapsed_sections": []
    },
    "kernelspec": {
      "name": "python3",
      "display_name": "Python 3"
    },
    "language_info": {
      "name": "python"
    }
  },
  "cells": [
    {
      "cell_type": "code",
      "execution_count": null,
      "metadata": {
        "colab": {
          "base_uri": "https://localhost:8080/"
        },
        "id": "3E_feYQPnU_a",
        "outputId": "15781c4e-edfb-4b67-9625-7fb58164d399"
      },
      "outputs": [
        {
          "output_type": "stream",
          "name": "stdout",
          "text": [
            "Requirement already satisfied: bs4 in /usr/local/lib/python3.7/dist-packages (0.0.1)\n",
            "Requirement already satisfied: beautifulsoup4 in /usr/local/lib/python3.7/dist-packages (from bs4) (4.6.3)\n"
          ]
        }
      ],
      "source": [
        "!pip install bs4"
      ]
    },
    {
      "cell_type": "markdown",
      "source": [
        "### Last Video Code - urllinks.py"
      ],
      "metadata": {
        "id": "_bY23N0ZtznL"
      }
    },
    {
      "cell_type": "code",
      "source": [
        "# To run this, download the BeautifulSoup zip file\n",
        "# http://www.py4e.com/code3/bs4.zip\n",
        "# and unzip it in the same directory as this file\n",
        "\n",
        "import urllib.request, urllib.parse, urllib.error\n",
        "from bs4 import BeautifulSoup\n",
        "import ssl\n",
        "\n",
        "# Ignore SSL certificate errors\n",
        "ctx = ssl.create_default_context()\n",
        "ctx.check_hostname = False\n",
        "ctx.verify_mode = ssl.CERT_NONE\n",
        "\n",
        "url = input('Enter - ')\n",
        "html = urllib.request.urlopen(url, context=ctx).read()\n",
        "soup = BeautifulSoup(html, 'html.parser')\n",
        "\n",
        "# Retrieve all of the anchor tags\n",
        "tags = soup('a')\n",
        "for tag in tags:\n",
        "    print(tag.get('href', None))\n"
      ],
      "metadata": {
        "colab": {
          "base_uri": "https://localhost:8080/"
        },
        "id": "QZwQ1uXbngsl",
        "outputId": "bd2fcfc8-5618-4ea3-c659-5d9d5103942b"
      },
      "execution_count": null,
      "outputs": [
        {
          "output_type": "stream",
          "name": "stdout",
          "text": [
            "Enter - http://dr.chuck.com\n",
            "/digimedia_privacy_policy.html\n",
            "http://www.digimedia.com\n"
          ]
        }
      ]
    },
    {
      "cell_type": "markdown",
      "source": [
        "### Quiz Questions"
      ],
      "metadata": {
        "id": "i4vO4Le3twsk"
      }
    },
    {
      "cell_type": "code",
      "source": [
        "chr(108)"
      ],
      "metadata": {
        "colab": {
          "base_uri": "https://localhost:8080/",
          "height": 35
        },
        "id": "iSniJAjinpNJ",
        "outputId": "32f5bed7-ec2d-4f20-b8b9-1db9eeb78604"
      },
      "execution_count": null,
      "outputs": [
        {
          "output_type": "execute_result",
          "data": {
            "application/vnd.google.colaboratory.intrinsic+json": {
              "type": "string"
            },
            "text/plain": [
              "'l'"
            ]
          },
          "metadata": {},
          "execution_count": 5
        }
      ]
    },
    {
      "cell_type": "code",
      "source": [
        "chr(105)"
      ],
      "metadata": {
        "colab": {
          "base_uri": "https://localhost:8080/",
          "height": 35
        },
        "id": "9diWIFRmoFgS",
        "outputId": "96b231b3-8f28-472a-da7b-f7d81ddf5eb0"
      },
      "execution_count": null,
      "outputs": [
        {
          "output_type": "execute_result",
          "data": {
            "application/vnd.google.colaboratory.intrinsic+json": {
              "type": "string"
            },
            "text/plain": [
              "'i'"
            ]
          },
          "metadata": {},
          "execution_count": 6
        }
      ]
    },
    {
      "cell_type": "code",
      "source": [
        "ord(\"G\")"
      ],
      "metadata": {
        "colab": {
          "base_uri": "https://localhost:8080/"
        },
        "id": "x4VekyQpoKdQ",
        "outputId": "4d0f116c-fcc4-4f2a-d9c8-9bdd6746de51"
      },
      "execution_count": null,
      "outputs": [
        {
          "output_type": "execute_result",
          "data": {
            "text/plain": [
              "71"
            ]
          },
          "metadata": {},
          "execution_count": 7
        }
      ]
    },
    {
      "cell_type": "code",
      "source": [
        "import urllib.request, urllib.parse, urllib.error\n",
        "from bs4 import BeautifulSoup\n",
        "import ssl\n",
        "html = urllib.request.urlopen(url).read()\n",
        "soup = BeautifulSoup(html, 'html.parser')\n",
        "x = soup('a')"
      ],
      "metadata": {
        "id": "ibDFn4yvoU4R"
      },
      "execution_count": null,
      "outputs": []
    },
    {
      "cell_type": "code",
      "source": [
        "print(x)"
      ],
      "metadata": {
        "colab": {
          "base_uri": "https://localhost:8080/"
        },
        "id": "dSbpHYPuogyA",
        "outputId": "25b0ea8b-5fe9-46f3-8d67-baa79f7783a7"
      },
      "execution_count": null,
      "outputs": [
        {
          "output_type": "stream",
          "name": "stdout",
          "text": [
            "[<a href=\"/digimedia_privacy_policy.html\" target=\"_blank\">Privacy Policy</a>, <a href=\"http://www.digimedia.com\" target=\"_blank\">Copyright © 2021 Digimedia.com, L.P.</a>]\n"
          ]
        }
      ]
    },
    {
      "cell_type": "markdown",
      "source": [
        "Graded Assignment 1"
      ],
      "metadata": {
        "id": "XGX-l_A8ug_c"
      }
    },
    {
      "cell_type": "code",
      "source": [
        "# To run this, download the BeautifulSoup zip file\n",
        "# http://www.py4e.com/code3/bs4.zip\n",
        "# and unzip it in the same directory as this file\n",
        "\n",
        "from urllib.request import urlopen\n",
        "from bs4 import BeautifulSoup\n",
        "import ssl\n",
        "import re\n",
        "\n",
        "# Ignore SSL certificate errors\n",
        "ctx = ssl.create_default_context()\n",
        "ctx.check_hostname = False\n",
        "ctx.verify_mode = ssl.CERT_NONE\n",
        "\n",
        "url = input('Enter - ')\n",
        "html = urlopen(url, context=ctx).read()\n",
        "soup = BeautifulSoup(html, \"html.parser\")\n",
        "emptylist = []\n",
        "\n",
        "# Retrieve all of the anchor tags\n",
        "tags = soup('td')\n",
        "for tag in tags:\n",
        "    # Look at the parts of a tag\n",
        "    # print('TAG:', tag)\n",
        "    y = re.findall('>([0-9]+)<', str(tag))\n",
        "    # print(y)\n",
        "    emptylist += y\n",
        "ans = 0\n",
        "for val in emptylist:\n",
        "    ans += int(val)\n",
        "print(ans)\n",
        "\n",
        "    "
      ],
      "metadata": {
        "id": "hPtJ9FJJohwp",
        "colab": {
          "base_uri": "https://localhost:8080/"
        },
        "outputId": "135b9e1c-9647-498c-e5df-8e76e43c6b81"
      },
      "execution_count": null,
      "outputs": [
        {
          "output_type": "stream",
          "name": "stdout",
          "text": [
            "Enter - http://py4e-data.dr-chuck.net/comments_1413274.html\n",
            "2549\n"
          ]
        }
      ]
    },
    {
      "cell_type": "code",
      "source": [
        "print(tags)"
      ],
      "metadata": {
        "colab": {
          "base_uri": "https://localhost:8080/"
        },
        "id": "vOUeYaTKu5EM",
        "outputId": "48052be8-6fb9-4feb-b035-ff81a5e8b4d7"
      },
      "execution_count": null,
      "outputs": [
        {
          "output_type": "stream",
          "name": "stdout",
          "text": [
            "[]\n"
          ]
        }
      ]
    },
    {
      "cell_type": "code",
      "source": [
        ""
      ],
      "metadata": {
        "id": "OoMPoxXGvC_K"
      },
      "execution_count": null,
      "outputs": []
    }
  ]
}